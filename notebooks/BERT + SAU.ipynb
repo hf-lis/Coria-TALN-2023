{
 "cells": [
  {
   "cell_type": "code",
   "execution_count": null,
   "id": "312558ab",
   "metadata": {},
   "outputs": [],
   "source": [
    "import torch\n",
    "from tqdm.notebook import trange, tqdm\n",
    "from transformers import *"
   ]
  },
  {
   "cell_type": "markdown",
   "id": "c8bb7465-befd-4e39-b4cc-6353c9ba9f20",
   "metadata": {},
   "source": [
    "### Change device for GPU if available"
   ]
  },
  {
   "cell_type": "code",
   "execution_count": null,
   "id": "77eaa8c3",
   "metadata": {},
   "outputs": [],
   "source": [
    "device = torch.device(\"cuda\" if torch.cuda.is_available() else \"cpu\")\n",
    "n_gpu = torch.cuda.device_count()\n",
    "for index in range(n_gpu):\n",
    "    print(torch.cuda.get_device_name(index))"
   ]
  },
  {
   "cell_type": "markdown",
   "id": "dfd03649",
   "metadata": {},
   "source": [
    "## Load Data (Dataframes / Dataloaders)"
   ]
  },
  {
   "cell_type": "code",
   "execution_count": null,
   "id": "d8b2663e",
   "metadata": {},
   "outputs": [],
   "source": [
    "import pandas as pd"
   ]
  },
  {
   "cell_type": "code",
   "execution_count": null,
   "id": "a6138942",
   "metadata": {},
   "outputs": [],
   "source": [
    "df = pd.read_csv('../train.csv') \n",
    "df = df[df.columns[3:]]\n",
    "print(df.shape)\n",
    "df.head()"
   ]
  },
  {
   "cell_type": "code",
   "execution_count": null,
   "id": "1bc660c1",
   "metadata": {},
   "outputs": [],
   "source": [
    "df_dev = pd.read_csv('../dev.csv')\n",
    "df_dev = df_dev[df_dev.columns[3:]]\n",
    "print(df_dev.shape)\n",
    "df_dev.head()"
   ]
  },
  {
   "cell_type": "code",
   "execution_count": null,
   "id": "1f022179-4ef1-44c4-b9b7-b52bf4f8898e",
   "metadata": {},
   "outputs": [],
   "source": [
    "df_test = pd.read_csv('../test.csv')\n",
    "df_test = df_test[df_test.columns[3:]]\n",
    "print(df_test.shape)\n",
    "df_test.head()"
   ]
  },
  {
   "cell_type": "code",
   "execution_count": null,
   "id": "24d36905",
   "metadata": {},
   "outputs": [],
   "source": [
    "label_cols = df.columns.to_list()\n",
    "num_labels = len(label_cols)\n",
    "bs = 8\n",
    "max_length = 512\n",
    "num_labels"
   ]
  },
  {
   "cell_type": "code",
   "execution_count": null,
   "id": "84cd2620",
   "metadata": {},
   "outputs": [],
   "source": [
    "small_prefix = \"\"\n",
    "train_dataloader = torch.load(f'dataloaders/{small_prefix}train_data_loader-{bs}-{max_length}')\n",
    "validation_dataloader = torch.load(f'dataloaders/validation_data_loader-{bs}-{max_length}')\n",
    "test_dataloader = torch.load(f'dataloaders/test_data_loader-{bs}-{max_length}')"
   ]
  },
  {
   "cell_type": "markdown",
   "id": "5cc3fb90",
   "metadata": {},
   "source": [
    "## Target Probabilities Tensor Creation"
   ]
  },
  {
   "cell_type": "code",
   "execution_count": null,
   "id": "a9820c32",
   "metadata": {},
   "outputs": [],
   "source": [
    "counts = df.astype(bool).sum(axis=0).to_dict()\n",
    "print(counts)"
   ]
  },
  {
   "cell_type": "code",
   "execution_count": null,
   "id": "4597eee1",
   "metadata": {},
   "outputs": [],
   "source": [
    "counts_dev = df_dev.astype(bool).sum(axis=0).to_dict()\n",
    "print(counts_dev)"
   ]
  },
  {
   "cell_type": "code",
   "execution_count": null,
   "id": "3c1e7188-2b6a-4b7d-9518-3d2a5ab3b75c",
   "metadata": {},
   "outputs": [],
   "source": [
    "counts_test = df_test.astype(bool).sum(axis=0).to_dict()\n",
    "print(counts_test)"
   ]
  },
  {
   "cell_type": "code",
   "execution_count": null,
   "id": "41dab148",
   "metadata": {
    "scrolled": true
   },
   "outputs": [],
   "source": [
    "def make_target_prob_tensor(counts: dict, dataframe):\n",
    "    columns = list(counts.keys())\n",
    "    target_prob = []\n",
    "    for column_1 in tqdm(columns, desc=\"Column-1\", leave=True):\n",
    "        temp_list = []\n",
    "        for column_2 in tqdm(columns, desc=\"Column-2\", leave=False):\n",
    "\n",
    "            count = len(dataframe[(dataframe[column_1] == 1) & (dataframe[column_2] == 1)])\n",
    "            freq = count / counts[column_1] if counts[column_1] else 0\n",
    "            temp_list.append(freq)\n",
    "            \n",
    "        target_prob.append(temp_list)\n",
    "        \n",
    "    target_prob = torch.tensor(target_prob, dtype=torch.float32)\n",
    "    target_prob = target_prob\n",
    "    return target_prob"
   ]
  },
  {
   "cell_type": "code",
   "execution_count": null,
   "id": "83391360",
   "metadata": {
    "scrolled": true,
    "tags": []
   },
   "outputs": [],
   "source": [
    "target_probs = make_target_prob_tensor(counts=counts, dataframe=df)\n",
    "target_probs = target_probs.to(device)\n",
    "print(target_probs.shape)"
   ]
  },
  {
   "cell_type": "code",
   "execution_count": null,
   "id": "fc0a9cfa",
   "metadata": {
    "scrolled": true,
    "tags": []
   },
   "outputs": [],
   "source": [
    "target_probs_dev = make_target_prob_tensor(counts=counts_dev, dataframe=df_dev)\n",
    "target_probs_dev = target_probs_dev.to(device)"
   ]
  },
  {
   "cell_type": "code",
   "execution_count": null,
   "id": "21b83b36-b4e4-4045-9c3b-20a4bdc3cbb0",
   "metadata": {
    "tags": []
   },
   "outputs": [],
   "source": [
    "target_probs_test = make_target_prob_tensor(counts=counts_test, dataframe=df_test)\n",
    "target_probs_test = target_probs_test.to(device)"
   ]
  },
  {
   "cell_type": "code",
   "execution_count": null,
   "id": "6f25d692",
   "metadata": {},
   "outputs": [],
   "source": [
    "dataloaders = {\n",
    "    'train': train_dataloader,\n",
    "    'dev': validation_dataloader,\n",
    "    'test': test_dataloader\n",
    "}"
   ]
  },
  {
   "cell_type": "code",
   "execution_count": null,
   "id": "1eca52b9",
   "metadata": {
    "tags": []
   },
   "outputs": [],
   "source": [
    "target_probabs = {\n",
    "    'train': target_probs,\n",
    "    'dev': target_probs_dev,\n",
    "    'test': target_probs_test\n",
    "}"
   ]
  },
  {
   "cell_type": "markdown",
   "id": "dd9066b3",
   "metadata": {},
   "source": [
    "## Training the model"
   ]
  },
  {
   "cell_type": "markdown",
   "id": "4b1468a5",
   "metadata": {},
   "source": [
    "### Metrics"
   ]
  },
  {
   "cell_type": "code",
   "execution_count": null,
   "id": "c50e6b9b",
   "metadata": {},
   "outputs": [],
   "source": [
    "from sklearn.metrics import classification_report, confusion_matrix, multilabel_confusion_matrix, f1_score, accuracy_score, precision_score, recall_score"
   ]
  },
  {
   "cell_type": "markdown",
   "id": "5429d2e4",
   "metadata": {},
   "source": [
    "### Preparing the model"
   ]
  },
  {
   "cell_type": "code",
   "execution_count": null,
   "id": "2f5c41f2",
   "metadata": {
    "scrolled": true,
    "tags": []
   },
   "outputs": [],
   "source": [
    "model = BertForSequenceClassification.from_pretrained(\"bert-base-cased\", num_labels=num_labels)\n",
    "model.cuda()"
   ]
  },
  {
   "cell_type": "code",
   "execution_count": null,
   "id": "d0ce1ad6-cf85-417c-a20a-f076f8b8d78a",
   "metadata": {
    "tags": []
   },
   "outputs": [],
   "source": [
    "class SUDepClassifier(torch.nn.Module):\n",
    "\n",
    "    def __init__(self, input_size, out_features, weight_tensor):\n",
    "        super(SUDepClassifier, self).__init__()\n",
    "        self.weight_tensor = weight_tensor\n",
    "        self.dense = torch.nn.Linear(in_features=input_size, out_features=out_features, bias=True)\n",
    "        \n",
    "    def forward(self, x):\n",
    "        out = self.dense(x)\n",
    "        \n",
    "        #  activation with label frequencies\n",
    "        bs = out.shape[0]\n",
    "        d_labels = out.shape[1] \n",
    "        out = torch.reshape(out, (bs, 1, d_labels))\n",
    "        out = torch.bmm(out, torch.broadcast_to(self.weight_tensor, (bs, d_labels, d_labels)))\n",
    "        out = torch.squeeze(out, dim=1)\n",
    "        out = torch.sigmoid(out)\n",
    "        return out"
   ]
  },
  {
   "cell_type": "code",
   "execution_count": null,
   "id": "4373047c-d54e-4364-9569-8de1eb24f1d9",
   "metadata": {},
   "outputs": [],
   "source": [
    "class SAUDepClassifier(torch.nn.Module):\n",
    "\n",
    "    def __init__(self, input_size, out_features, weight_tensor):\n",
    "        super(SAUDepClassifier, self).__init__()\n",
    "        self.weight_tensor = weight_tensor\n",
    "        self.dense = torch.nn.Linear(in_features=input_size, out_features=out_features, bias=True)\n",
    "        \n",
    "    def forward(self, x):\n",
    "        out = self.dense(x)\n",
    "        bs = out.shape[0]\n",
    "        d_labels = out.shape[1]  \n",
    "        reshaped_logits = torch.reshape(out, (bs, d_labels, 1))\n",
    "        ew_product = torch.mul(reshaped_logits, self.weight_tensor)\n",
    "        softmax_ew_product = torch.softmax(ew_product, dim=1)\n",
    "        resh_logits = torch.reshape(out, (bs, 1, d_labels))\n",
    "        final_output = torch.matmul(resh_logits, softmax_ew_product).squeeze(dim=1)\n",
    "        final_output = torch.sigmoid(final_output)\n",
    "        return final_output"
   ]
  },
  {
   "cell_type": "code",
   "execution_count": null,
   "id": "635d099e-a5c3-4742-b4d6-a6abacfea0cc",
   "metadata": {
    "scrolled": true,
    "tags": []
   },
   "outputs": [],
   "source": [
    "# DepClassifier need to be changed to the corresponding approach\n",
    "model.classifier = SUDepClassifier(input_size=768, out_features=num_labels, weight_tensor=target_probabs['train'])\n",
    "model.cuda()"
   ]
  },
  {
   "cell_type": "markdown",
   "id": "a34ea566",
   "metadata": {},
   "source": [
    "### Loss function and Optimizers"
   ]
  },
  {
   "cell_type": "code",
   "execution_count": null,
   "id": "5aa4b8f7",
   "metadata": {
    "tags": []
   },
   "outputs": [],
   "source": [
    "# setting custom optimization parameters. You may implement a scheduler here as well.\n",
    "param_optimizer = list(model.named_parameters())\n",
    "no_decay = ['bias', 'gamma', 'beta']\n",
    "\n",
    "\n",
    "#exclude the last layer parameter from optimizer\n",
    "optimizer_grouped_parameters_classification = [\n",
    "    {'params': [p for n, p in param_optimizer if not any(nd in n for nd in no_decay)] ,\n",
    "     'weight_decay_rate': 0.01},\n",
    "    {'params': [p for n, p in param_optimizer if any(nd in n for nd in no_decay)],\n",
    "     'weight_decay_rate': 0.0}\n",
    "]"
   ]
  },
  {
   "cell_type": "code",
   "execution_count": null,
   "id": "5bfc1d6b",
   "metadata": {},
   "outputs": [],
   "source": [
    "optimizer_classification = torch.optim.AdamW(optimizer_grouped_parameters_classification, lr=2e-5)\n",
    "classification_criterion = torch.nn.BCELoss()"
   ]
  },
  {
   "cell_type": "markdown",
   "id": "5b576f41",
   "metadata": {},
   "source": [
    "### Logging and Saving"
   ]
  },
  {
   "cell_type": "code",
   "execution_count": null,
   "id": "b920d032",
   "metadata": {},
   "outputs": [],
   "source": [
    "model_name = \"your_model_name\"\n",
    "dataset_name = \"dataset_name\""
   ]
  },
  {
   "cell_type": "code",
   "execution_count": null,
   "id": "c6ca7225",
   "metadata": {},
   "outputs": [],
   "source": [
    "import copy\n",
    "best_model_wts = copy.deepcopy(model.state_dict())\n",
    "best_val_f1 = -1.0"
   ]
  },
  {
   "cell_type": "markdown",
   "id": "98ad82b1",
   "metadata": {},
   "source": [
    "### Train !"
   ]
  },
  {
   "cell_type": "code",
   "execution_count": null,
   "id": "af6977ad",
   "metadata": {
    "scrolled": true,
    "tags": []
   },
   "outputs": [],
   "source": [
    "threshold = 0.5\n",
    "model.eval()\n",
    "epochs = 30 # Number of training epochs\n",
    "# trange is a tqdm wrapper around the normal python range\n",
    "for epoch_num in trange(epochs, desc=\"Epoch\", position=0):\n",
    "    \n",
    "    for phase in tqdm(['train', 'dev', 'test'], leave=False, desc='Phases', position=1):\n",
    "\n",
    "        # Tracking variables\n",
    "        true_labels,pred_labels = [], [] # for metrics\n",
    "        epoch_loss, cls_loss = 0, 0 #running losses\n",
    "        epoch_steps = 0\n",
    "        \n",
    "        if phase == 'train': \n",
    "            model.train()\n",
    "            \n",
    "        if phase == 'dev' or phase == 'test':\n",
    "            model.eval()\n",
    "            \n",
    "        for step, batch in enumerate(tqdm(dataloaders[phase], leave=False, desc=f\"{phase.capitalize()} Dataloader\", position=2)):\n",
    "\n",
    "            # Add batch to GPU\n",
    "            batch = tuple(t.to(device) for t in batch)\n",
    "\n",
    "            # Unpack the inputs from our dataloader\n",
    "            b_input_ids, b_input_mask, b_labels = batch\n",
    "\n",
    "            # Forward pass for multilabel classification\n",
    "            with torch.set_grad_enabled(phase == 'train'):\n",
    "                outputs = model(b_input_ids, attention_mask=b_input_mask)[0]\n",
    "                classification_logits = outputs\n",
    "                \n",
    "            del b_input_ids, b_input_mask, outputs\n",
    "            torch.cuda.empty_cache()\n",
    "\n",
    "            #loss calculation\n",
    "            loss = classification_criterion(classification_logits, b_labels.type_as(classification_logits))\n",
    "            \n",
    "            if phase == 'train': \n",
    "\n",
    "                # Clear out the gradients \n",
    "                optimizer_classification.zero_grad()\n",
    "                \n",
    "                # Backward pass\n",
    "                loss.backward()\n",
    "                    \n",
    "                # Update parameters and take a step using the computed gradient\n",
    "                optimizer_classification.step()\n",
    "\n",
    "            # Update tracking variables\n",
    "            cls_loss += loss.item()\n",
    "            epoch_steps += 1\n",
    "            \n",
    "            # Update Epoch Metrics\n",
    "            pred_label = classification_logits.detach().to('cpu').numpy()\n",
    "            b_labels = b_labels.to('cpu').numpy()\n",
    "\n",
    "            true_labels.append(b_labels)\n",
    "            pred_labels.append(pred_label)\n",
    "            \n",
    "\n",
    "\n",
    "        # Get Epoch Metrics\n",
    "        # Flatten outputs\n",
    "        pred_labels = [item for sublist in pred_labels for item in sublist]\n",
    "        true_labels = [item for sublist in true_labels for item in sublist]\n",
    "        \n",
    "        true_bools = true_labels \n",
    "        pred_bools = [pl>threshold for pl in pred_labels] \n",
    "        f1_accuracy, flat_accuracy, precision, recall = get_metrics(true_bools, pred_bools)\n",
    "        \n",
    "        # Get Epoch Losses\n",
    "        cls_loss = cls_loss/epoch_steps\n",
    "\n",
    "        # Log Epoch Metrics\n",
    "        metrics = {\n",
    "            'F1_score': f1_accuracy,\n",
    "            'Accuracy': flat_accuracy,\n",
    "            'Precision': precision,\n",
    "            'Recall': recall,\n",
    "            'Cls_loss': cls_loss,\n",
    "        }\n",
    "        \n",
    "        # Save model if valid performances are better\n",
    "        if phase == 'dev':\n",
    "            if  f1_accuracy > best_val_f1:\n",
    "                best_val_f1 = f1_accuracy\n",
    "                torch.save(model.state_dict(), 'state_dicts/best_'+ model_name +'.pt')\n",
    "        \n",
    "    \n",
    "# save last model\n",
    "torch.save(model.state_dict(), 'state_dicts/last_'+ model_name +'.pt')"
   ]
  },
  {
   "cell_type": "code",
   "execution_count": null,
   "id": "9f22da1c-4089-448e-abb2-b9a325d2f1a0",
   "metadata": {},
   "outputs": [],
   "source": []
  }
 ],
 "metadata": {
  "kernelspec": {
   "display_name": "Python 3 (ipykernel)",
   "language": "python",
   "name": "python3"
  },
  "language_info": {
   "codemirror_mode": {
    "name": "ipython",
    "version": 3
   },
   "file_extension": ".py",
   "mimetype": "text/x-python",
   "name": "python",
   "nbconvert_exporter": "python",
   "pygments_lexer": "ipython3",
   "version": "3.8.10"
  }
 },
 "nbformat": 4,
 "nbformat_minor": 5
}
